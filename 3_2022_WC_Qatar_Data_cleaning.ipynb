{
 "cells": [
  {
   "cell_type": "markdown",
   "id": "abe29240",
   "metadata": {},
   "source": [
    "**DESCRIPTION:**\n",
    "\n",
    "This Jupyter Notebook shows the data cleaning of fixture in the Qatar 2022 World Cup and world cup matches from 1930 to 2018. Once the process is finished both be saved as a csv file for its data exploration and model creation.\n"
   ]
  },
  {
   "cell_type": "markdown",
   "id": "b9e1ecd7",
   "metadata": {},
   "source": [
    "# 3. Data cleaning"
   ]
  },
  {
   "cell_type": "markdown",
   "id": "2296a5e0",
   "metadata": {},
   "source": [
    "**Library**"
   ]
  },
  {
   "cell_type": "code",
   "execution_count": 1,
   "id": "a3129d14",
   "metadata": {},
   "outputs": [],
   "source": [
    "import pandas as pd"
   ]
  },
  {
   "cell_type": "markdown",
   "id": "9a632a3e",
   "metadata": {},
   "source": [
    "## 3.1 Cleaning DataFrame \"df_fixture_data\""
   ]
  },
  {
   "cell_type": "code",
   "execution_count": 2,
   "id": "01af9f12",
   "metadata": {},
   "outputs": [
    {
     "data": {
      "text/html": [
       "<div>\n",
       "<style scoped>\n",
       "    .dataframe tbody tr th:only-of-type {\n",
       "        vertical-align: middle;\n",
       "    }\n",
       "\n",
       "    .dataframe tbody tr th {\n",
       "        vertical-align: top;\n",
       "    }\n",
       "\n",
       "    .dataframe thead th {\n",
       "        text-align: right;\n",
       "    }\n",
       "</style>\n",
       "<table border=\"1\" class=\"dataframe\">\n",
       "  <thead>\n",
       "    <tr style=\"text-align: right;\">\n",
       "      <th></th>\n",
       "      <th>First_team</th>\n",
       "      <th>Score</th>\n",
       "      <th>Second_team</th>\n",
       "      <th>Year</th>\n",
       "    </tr>\n",
       "  </thead>\n",
       "  <tbody>\n",
       "    <tr>\n",
       "      <th>0</th>\n",
       "      <td>Qatar</td>\n",
       "      <td>Match 1</td>\n",
       "      <td>Ecuador</td>\n",
       "      <td>2022</td>\n",
       "    </tr>\n",
       "    <tr>\n",
       "      <th>1</th>\n",
       "      <td>Senegal</td>\n",
       "      <td>Match 2</td>\n",
       "      <td>Netherlands</td>\n",
       "      <td>2022</td>\n",
       "    </tr>\n",
       "    <tr>\n",
       "      <th>2</th>\n",
       "      <td>Qatar</td>\n",
       "      <td>Match 18</td>\n",
       "      <td>Senegal</td>\n",
       "      <td>2022</td>\n",
       "    </tr>\n",
       "    <tr>\n",
       "      <th>3</th>\n",
       "      <td>Netherlands</td>\n",
       "      <td>Match 19</td>\n",
       "      <td>Ecuador</td>\n",
       "      <td>2022</td>\n",
       "    </tr>\n",
       "    <tr>\n",
       "      <th>4</th>\n",
       "      <td>Ecuador</td>\n",
       "      <td>Match 35</td>\n",
       "      <td>Senegal</td>\n",
       "      <td>2022</td>\n",
       "    </tr>\n",
       "    <tr>\n",
       "      <th>...</th>\n",
       "      <td>...</td>\n",
       "      <td>...</td>\n",
       "      <td>...</td>\n",
       "      <td>...</td>\n",
       "    </tr>\n",
       "    <tr>\n",
       "      <th>59</th>\n",
       "      <td>Winners Match 51</td>\n",
       "      <td>Match 59</td>\n",
       "      <td>Winners Match 52</td>\n",
       "      <td>2022</td>\n",
       "    </tr>\n",
       "    <tr>\n",
       "      <th>60</th>\n",
       "      <td>Winners Match 57</td>\n",
       "      <td>Match 61</td>\n",
       "      <td>Winners Match 58</td>\n",
       "      <td>2022</td>\n",
       "    </tr>\n",
       "    <tr>\n",
       "      <th>61</th>\n",
       "      <td>Winners Match 59</td>\n",
       "      <td>Match 62</td>\n",
       "      <td>Winners Match 60</td>\n",
       "      <td>2022</td>\n",
       "    </tr>\n",
       "    <tr>\n",
       "      <th>62</th>\n",
       "      <td>Losers Match 61</td>\n",
       "      <td>Match 63</td>\n",
       "      <td>Losers Match 62</td>\n",
       "      <td>2022</td>\n",
       "    </tr>\n",
       "    <tr>\n",
       "      <th>63</th>\n",
       "      <td>Winners Match 61</td>\n",
       "      <td>Match 64</td>\n",
       "      <td>Winners Match 62</td>\n",
       "      <td>2022</td>\n",
       "    </tr>\n",
       "  </tbody>\n",
       "</table>\n",
       "<p>64 rows × 4 columns</p>\n",
       "</div>"
      ],
      "text/plain": [
       "          First_team     Score       Second_team  Year\n",
       "0             Qatar    Match 1           Ecuador  2022\n",
       "1           Senegal    Match 2       Netherlands  2022\n",
       "2             Qatar   Match 18           Senegal  2022\n",
       "3       Netherlands   Match 19           Ecuador  2022\n",
       "4           Ecuador   Match 35           Senegal  2022\n",
       "..               ...       ...               ...   ...\n",
       "59  Winners Match 51  Match 59  Winners Match 52  2022\n",
       "60  Winners Match 57  Match 61  Winners Match 58  2022\n",
       "61  Winners Match 59  Match 62  Winners Match 60  2022\n",
       "62   Losers Match 61  Match 63   Losers Match 62  2022\n",
       "63  Winners Match 61  Match 64  Winners Match 62  2022\n",
       "\n",
       "[64 rows x 4 columns]"
      ]
     },
     "execution_count": 2,
     "metadata": {},
     "output_type": "execute_result"
    }
   ],
   "source": [
    "# DataFrame\n",
    "df_fixture_data = pd.read_csv('data/FIFA_Worldcup_2022_Qatar.csv')\n",
    "df_fixture_data"
   ]
  },
  {
   "cell_type": "code",
   "execution_count": 3,
   "id": "c309cb61",
   "metadata": {},
   "outputs": [
    {
     "name": "stdout",
     "output_type": "stream",
     "text": [
      "DataFrame \"df_fixture_data\" has 64 rows and 4 columns.\n"
     ]
    }
   ],
   "source": [
    "print(f'DataFrame \"df_fixture_data\" has {df_fixture_data.shape[0]}\\\n",
    " rows and {df_fixture_data.shape[1]} columns.')"
   ]
  },
  {
   "cell_type": "markdown",
   "id": "decbce26",
   "metadata": {},
   "source": [
    "### 3.1.1 Removing blank spaces"
   ]
  },
  {
   "cell_type": "code",
   "execution_count": 4,
   "id": "117d8acb",
   "metadata": {},
   "outputs": [],
   "source": [
    "df_fixture_data['First_team'] = df_fixture_data.First_team.str.strip()\n",
    "df_fixture_data['Second_team'] = df_fixture_data.Second_team.str.strip()"
   ]
  },
  {
   "cell_type": "markdown",
   "id": "7017c81d",
   "metadata": {},
   "source": [
    "### 3.1.2 Missing values"
   ]
  },
  {
   "cell_type": "code",
   "execution_count": 5,
   "id": "dd21f611",
   "metadata": {},
   "outputs": [
    {
     "data": {
      "text/plain": [
       "First_team     0\n",
       "Score          0\n",
       "Second_team    0\n",
       "Year           0\n",
       "dtype: int64"
      ]
     },
     "execution_count": 5,
     "metadata": {},
     "output_type": "execute_result"
    }
   ],
   "source": [
    "df_fixture_data.isnull().sum()\n",
    "\n",
    "# There are no missing values in any column"
   ]
  },
  {
   "cell_type": "code",
   "execution_count": 6,
   "id": "70c41a33",
   "metadata": {},
   "outputs": [
    {
     "name": "stdout",
     "output_type": "stream",
     "text": [
      "<class 'pandas.core.frame.DataFrame'>\n",
      "RangeIndex: 64 entries, 0 to 63\n",
      "Data columns (total 4 columns):\n",
      " #   Column       Non-Null Count  Dtype \n",
      "---  ------       --------------  ----- \n",
      " 0   First_team   64 non-null     object\n",
      " 1   Score        64 non-null     object\n",
      " 2   Second_team  64 non-null     object\n",
      " 3   Year         64 non-null     int64 \n",
      "dtypes: int64(1), object(3)\n",
      "memory usage: 2.1+ KB\n"
     ]
    }
   ],
   "source": [
    "df_fixture_data.info()"
   ]
  },
  {
   "cell_type": "markdown",
   "id": "1293bc49",
   "metadata": {},
   "source": [
    "## 3.2 Cleaning DataFrame \"df_historical_data\""
   ]
  },
  {
   "cell_type": "code",
   "execution_count": 7,
   "id": "c8716303",
   "metadata": {},
   "outputs": [
    {
     "data": {
      "text/html": [
       "<div>\n",
       "<style scoped>\n",
       "    .dataframe tbody tr th:only-of-type {\n",
       "        vertical-align: middle;\n",
       "    }\n",
       "\n",
       "    .dataframe tbody tr th {\n",
       "        vertical-align: top;\n",
       "    }\n",
       "\n",
       "    .dataframe thead th {\n",
       "        text-align: right;\n",
       "    }\n",
       "</style>\n",
       "<table border=\"1\" class=\"dataframe\">\n",
       "  <thead>\n",
       "    <tr style=\"text-align: right;\">\n",
       "      <th></th>\n",
       "      <th>First_team</th>\n",
       "      <th>Score</th>\n",
       "      <th>Second_team</th>\n",
       "      <th>Year</th>\n",
       "    </tr>\n",
       "  </thead>\n",
       "  <tbody>\n",
       "    <tr>\n",
       "      <th>0</th>\n",
       "      <td>France</td>\n",
       "      <td>4–1</td>\n",
       "      <td>Mexico</td>\n",
       "      <td>1930</td>\n",
       "    </tr>\n",
       "    <tr>\n",
       "      <th>1</th>\n",
       "      <td>Argentina</td>\n",
       "      <td>1–0</td>\n",
       "      <td>France</td>\n",
       "      <td>1930</td>\n",
       "    </tr>\n",
       "    <tr>\n",
       "      <th>2</th>\n",
       "      <td>Chile</td>\n",
       "      <td>3–0</td>\n",
       "      <td>Mexico</td>\n",
       "      <td>1930</td>\n",
       "    </tr>\n",
       "    <tr>\n",
       "      <th>3</th>\n",
       "      <td>Chile</td>\n",
       "      <td>1–0</td>\n",
       "      <td>France</td>\n",
       "      <td>1930</td>\n",
       "    </tr>\n",
       "    <tr>\n",
       "      <th>4</th>\n",
       "      <td>Argentina</td>\n",
       "      <td>6–3</td>\n",
       "      <td>Mexico</td>\n",
       "      <td>1930</td>\n",
       "    </tr>\n",
       "    <tr>\n",
       "      <th>...</th>\n",
       "      <td>...</td>\n",
       "      <td>...</td>\n",
       "      <td>...</td>\n",
       "      <td>...</td>\n",
       "    </tr>\n",
       "    <tr>\n",
       "      <th>896</th>\n",
       "      <td>Russia</td>\n",
       "      <td>2–2 (a.e.t.)</td>\n",
       "      <td>Croatia</td>\n",
       "      <td>2018</td>\n",
       "    </tr>\n",
       "    <tr>\n",
       "      <th>897</th>\n",
       "      <td>France</td>\n",
       "      <td>1–0</td>\n",
       "      <td>Belgium</td>\n",
       "      <td>2018</td>\n",
       "    </tr>\n",
       "    <tr>\n",
       "      <th>898</th>\n",
       "      <td>Croatia</td>\n",
       "      <td>2–1 (a.e.t.)</td>\n",
       "      <td>England</td>\n",
       "      <td>2018</td>\n",
       "    </tr>\n",
       "    <tr>\n",
       "      <th>899</th>\n",
       "      <td>Belgium</td>\n",
       "      <td>2–0</td>\n",
       "      <td>England</td>\n",
       "      <td>2018</td>\n",
       "    </tr>\n",
       "    <tr>\n",
       "      <th>900</th>\n",
       "      <td>France</td>\n",
       "      <td>4–2</td>\n",
       "      <td>Croatia</td>\n",
       "      <td>2018</td>\n",
       "    </tr>\n",
       "  </tbody>\n",
       "</table>\n",
       "<p>901 rows × 4 columns</p>\n",
       "</div>"
      ],
      "text/plain": [
       "     First_team         Score Second_team  Year\n",
       "0       France            4–1      Mexico  1930\n",
       "1    Argentina            1–0      France  1930\n",
       "2        Chile            3–0      Mexico  1930\n",
       "3        Chile            1–0      France  1930\n",
       "4    Argentina            6–3      Mexico  1930\n",
       "..          ...           ...         ...   ...\n",
       "896     Russia   2–2 (a.e.t.)     Croatia  2018\n",
       "897     France            1–0     Belgium  2018\n",
       "898    Croatia   2–1 (a.e.t.)     England  2018\n",
       "899    Belgium            2–0     England  2018\n",
       "900     France            4–2     Croatia  2018\n",
       "\n",
       "[901 rows x 4 columns]"
      ]
     },
     "execution_count": 7,
     "metadata": {},
     "output_type": "execute_result"
    }
   ],
   "source": [
    "# DataFrame 'pyarrow'\n",
    "df_historical_data = pd.read_csv('data/FIFA_Worldcup_historical_data.csv', \n",
    "                                 engine='python', \n",
    "                                 encoding='utf-8', \n",
    "                                 #on_bad_lines=True,\n",
    "                                )\n",
    "df_historical_data"
   ]
  },
  {
   "cell_type": "code",
   "execution_count": 8,
   "id": "8fedc6d6",
   "metadata": {},
   "outputs": [
    {
     "name": "stdout",
     "output_type": "stream",
     "text": [
      "DataFrame \"df_historical_data\" has 901 rows and 4 columns.\n"
     ]
    }
   ],
   "source": [
    "print(f'DataFrame \"df_historical_data\" has {df_historical_data.shape[0]}\\\n",
    " rows and {df_historical_data.shape[1]} columns.')"
   ]
  },
  {
   "cell_type": "markdown",
   "id": "e49a56fc",
   "metadata": {},
   "source": [
    "### 3.2.1 Missing values"
   ]
  },
  {
   "cell_type": "code",
   "execution_count": 9,
   "id": "f63a90d7",
   "metadata": {},
   "outputs": [
    {
     "data": {
      "text/plain": [
       "First_team     0\n",
       "Score          0\n",
       "Second_team    0\n",
       "Year           0\n",
       "dtype: int64"
      ]
     },
     "execution_count": 9,
     "metadata": {},
     "output_type": "execute_result"
    }
   ],
   "source": [
    "df_historical_data.isnull().sum()\n",
    "\n",
    "# There are no missing values"
   ]
  },
  {
   "cell_type": "code",
   "execution_count": 10,
   "id": "cbeb0878",
   "metadata": {},
   "outputs": [
    {
     "name": "stdout",
     "output_type": "stream",
     "text": [
      "<class 'pandas.core.frame.DataFrame'>\n",
      "RangeIndex: 901 entries, 0 to 900\n",
      "Data columns (total 4 columns):\n",
      " #   Column       Non-Null Count  Dtype \n",
      "---  ------       --------------  ----- \n",
      " 0   First_team   901 non-null    object\n",
      " 1   Score        901 non-null    object\n",
      " 2   Second_team  901 non-null    object\n",
      " 3   Year         901 non-null    int64 \n",
      "dtypes: int64(1), object(3)\n",
      "memory usage: 28.3+ KB\n"
     ]
    }
   ],
   "source": [
    "df_historical_data.info()"
   ]
  },
  {
   "cell_type": "markdown",
   "id": "5be4205a",
   "metadata": {},
   "source": [
    "### 3.2.2 Duplicate rows"
   ]
  },
  {
   "cell_type": "code",
   "execution_count": 11,
   "id": "67e474c8",
   "metadata": {},
   "outputs": [
    {
     "data": {
      "text/plain": [
       "0"
      ]
     },
     "execution_count": 11,
     "metadata": {},
     "output_type": "execute_result"
    }
   ],
   "source": [
    "df_historical_data.duplicated().sum()"
   ]
  },
  {
   "cell_type": "code",
   "execution_count": 12,
   "id": "11b38fbb",
   "metadata": {},
   "outputs": [],
   "source": [
    "# Delete duplicate rows\n",
    "df_historical_data.drop_duplicates(inplace=True)"
   ]
  },
  {
   "cell_type": "markdown",
   "id": "b3e30d59",
   "metadata": {},
   "source": [
    "### 3.2.3 Deleting unplayed matches\n",
    "'w/o[a]' : walkover at"
   ]
  },
  {
   "cell_type": "code",
   "execution_count": 13,
   "id": "a1938387",
   "metadata": {},
   "outputs": [
    {
     "data": {
      "text/plain": [
       "Int64Index([37], dtype='int64')"
      ]
     },
     "execution_count": 13,
     "metadata": {},
     "output_type": "execute_result"
    }
   ],
   "source": [
    "# Indexes of unplayed matches (Walkover)\n",
    "index_values= df_historical_data[df_historical_data.Score == 'w/o[a]'].index\n",
    "index_values"
   ]
  },
  {
   "cell_type": "code",
   "execution_count": 14,
   "id": "1970e7a2",
   "metadata": {},
   "outputs": [],
   "source": [
    "# Delete unplayed games\n",
    "df_historical_data.drop(index=index_values, \n",
    "                        inplace=True\n",
    "                       )\n",
    "\n",
    "# Now there are 900 rows left."
   ]
  },
  {
   "cell_type": "code",
   "execution_count": 15,
   "id": "c5160dee",
   "metadata": {},
   "outputs": [
    {
     "data": {
      "text/plain": [
       "(900, 4)"
      ]
     },
     "execution_count": 15,
     "metadata": {},
     "output_type": "execute_result"
    }
   ],
   "source": [
    "df_historical_data.shape"
   ]
  },
  {
   "cell_type": "markdown",
   "id": "d6208af7",
   "metadata": {},
   "source": [
    "### 3.2.4 Cleaning \"Score\" column\n",
    "'(a.e.t)' : after extra time"
   ]
  },
  {
   "cell_type": "code",
   "execution_count": 16,
   "id": "94605481",
   "metadata": {},
   "outputs": [
    {
     "data": {
      "text/html": [
       "<div>\n",
       "<style scoped>\n",
       "    .dataframe tbody tr th:only-of-type {\n",
       "        vertical-align: middle;\n",
       "    }\n",
       "\n",
       "    .dataframe tbody tr th {\n",
       "        vertical-align: top;\n",
       "    }\n",
       "\n",
       "    .dataframe thead th {\n",
       "        text-align: right;\n",
       "    }\n",
       "</style>\n",
       "<table border=\"1\" class=\"dataframe\">\n",
       "  <thead>\n",
       "    <tr style=\"text-align: right;\">\n",
       "      <th></th>\n",
       "      <th>First_team</th>\n",
       "      <th>Score</th>\n",
       "      <th>Second_team</th>\n",
       "      <th>Year</th>\n",
       "    </tr>\n",
       "  </thead>\n",
       "  <tbody>\n",
       "    <tr>\n",
       "      <th>24</th>\n",
       "      <td>Austria</td>\n",
       "      <td>3–2 (a.e.t.)</td>\n",
       "      <td>France</td>\n",
       "      <td>1934</td>\n",
       "    </tr>\n",
       "    <tr>\n",
       "      <th>27</th>\n",
       "      <td>Italy</td>\n",
       "      <td>1–1 (a.e.t.)</td>\n",
       "      <td>Spain</td>\n",
       "      <td>1934</td>\n",
       "    </tr>\n",
       "    <tr>\n",
       "      <th>34</th>\n",
       "      <td>Italy</td>\n",
       "      <td>2–1 (a.e.t.)</td>\n",
       "      <td>Czechoslovakia</td>\n",
       "      <td>1934</td>\n",
       "    </tr>\n",
       "    <tr>\n",
       "      <th>35</th>\n",
       "      <td>Switzerland</td>\n",
       "      <td>1–1 (a.e.t.)</td>\n",
       "      <td>Germany</td>\n",
       "      <td>1938</td>\n",
       "    </tr>\n",
       "    <tr>\n",
       "      <th>38</th>\n",
       "      <td>Cuba</td>\n",
       "      <td>3–3 (a.e.t.)</td>\n",
       "      <td>Romania</td>\n",
       "      <td>1938</td>\n",
       "    </tr>\n",
       "    <tr>\n",
       "      <th>...</th>\n",
       "      <td>...</td>\n",
       "      <td>...</td>\n",
       "      <td>...</td>\n",
       "      <td>...</td>\n",
       "    </tr>\n",
       "    <tr>\n",
       "      <th>887</th>\n",
       "      <td>Spain</td>\n",
       "      <td>1–1 (a.e.t.)</td>\n",
       "      <td>Russia</td>\n",
       "      <td>2018</td>\n",
       "    </tr>\n",
       "    <tr>\n",
       "      <th>888</th>\n",
       "      <td>Croatia</td>\n",
       "      <td>1–1 (a.e.t.)</td>\n",
       "      <td>Denmark</td>\n",
       "      <td>2018</td>\n",
       "    </tr>\n",
       "    <tr>\n",
       "      <th>892</th>\n",
       "      <td>Colombia</td>\n",
       "      <td>1–1 (a.e.t.)</td>\n",
       "      <td>England</td>\n",
       "      <td>2018</td>\n",
       "    </tr>\n",
       "    <tr>\n",
       "      <th>896</th>\n",
       "      <td>Russia</td>\n",
       "      <td>2–2 (a.e.t.)</td>\n",
       "      <td>Croatia</td>\n",
       "      <td>2018</td>\n",
       "    </tr>\n",
       "    <tr>\n",
       "      <th>898</th>\n",
       "      <td>Croatia</td>\n",
       "      <td>2–1 (a.e.t.)</td>\n",
       "      <td>England</td>\n",
       "      <td>2018</td>\n",
       "    </tr>\n",
       "  </tbody>\n",
       "</table>\n",
       "<p>68 rows × 4 columns</p>\n",
       "</div>"
      ],
      "text/plain": [
       "       First_team         Score      Second_team  Year\n",
       "24       Austria   3–2 (a.e.t.)           France  1934\n",
       "27         Italy   1–1 (a.e.t.)            Spain  1934\n",
       "34         Italy   2–1 (a.e.t.)   Czechoslovakia  1934\n",
       "35   Switzerland   1–1 (a.e.t.)          Germany  1938\n",
       "38          Cuba   3–3 (a.e.t.)          Romania  1938\n",
       "..            ...           ...              ...   ...\n",
       "887        Spain   1–1 (a.e.t.)           Russia  2018\n",
       "888      Croatia   1–1 (a.e.t.)          Denmark  2018\n",
       "892     Colombia   1–1 (a.e.t.)          England  2018\n",
       "896       Russia   2–2 (a.e.t.)          Croatia  2018\n",
       "898      Croatia   2–1 (a.e.t.)          England  2018\n",
       "\n",
       "[68 rows x 4 columns]"
      ]
     },
     "execution_count": 16,
     "metadata": {},
     "output_type": "execute_result"
    }
   ],
   "source": [
    "# Rows containing column \"Score\" with '(a.e.t)'\n",
    "df_historical_data[df_historical_data.Score.str.contains('[\\\\(a.e.t.)]', regex=True)]"
   ]
  },
  {
   "cell_type": "code",
   "execution_count": 17,
   "id": "13df9048",
   "metadata": {},
   "outputs": [],
   "source": [
    "# Replace string \" (a.e.t)\" with \"\"\n",
    "df_historical_data.Score = df_historical_data.Score.str.replace('[\\\\ (a.e.t.)]', '', regex=True)"
   ]
  },
  {
   "cell_type": "code",
   "execution_count": 18,
   "id": "50c8de4d",
   "metadata": {},
   "outputs": [
    {
     "data": {
      "text/html": [
       "<div>\n",
       "<style scoped>\n",
       "    .dataframe tbody tr th:only-of-type {\n",
       "        vertical-align: middle;\n",
       "    }\n",
       "\n",
       "    .dataframe tbody tr th {\n",
       "        vertical-align: top;\n",
       "    }\n",
       "\n",
       "    .dataframe thead th {\n",
       "        text-align: right;\n",
       "    }\n",
       "</style>\n",
       "<table border=\"1\" class=\"dataframe\">\n",
       "  <thead>\n",
       "    <tr style=\"text-align: right;\">\n",
       "      <th></th>\n",
       "      <th>First_team</th>\n",
       "      <th>Score</th>\n",
       "      <th>Second_team</th>\n",
       "      <th>Year</th>\n",
       "    </tr>\n",
       "  </thead>\n",
       "  <tbody>\n",
       "    <tr>\n",
       "      <th>0</th>\n",
       "      <td>France</td>\n",
       "      <td>4–1</td>\n",
       "      <td>Mexico</td>\n",
       "      <td>1930</td>\n",
       "    </tr>\n",
       "    <tr>\n",
       "      <th>1</th>\n",
       "      <td>Argentina</td>\n",
       "      <td>1–0</td>\n",
       "      <td>France</td>\n",
       "      <td>1930</td>\n",
       "    </tr>\n",
       "    <tr>\n",
       "      <th>2</th>\n",
       "      <td>Chile</td>\n",
       "      <td>3–0</td>\n",
       "      <td>Mexico</td>\n",
       "      <td>1930</td>\n",
       "    </tr>\n",
       "    <tr>\n",
       "      <th>3</th>\n",
       "      <td>Chile</td>\n",
       "      <td>1–0</td>\n",
       "      <td>France</td>\n",
       "      <td>1930</td>\n",
       "    </tr>\n",
       "    <tr>\n",
       "      <th>4</th>\n",
       "      <td>Argentina</td>\n",
       "      <td>6–3</td>\n",
       "      <td>Mexico</td>\n",
       "      <td>1930</td>\n",
       "    </tr>\n",
       "    <tr>\n",
       "      <th>...</th>\n",
       "      <td>...</td>\n",
       "      <td>...</td>\n",
       "      <td>...</td>\n",
       "      <td>...</td>\n",
       "    </tr>\n",
       "    <tr>\n",
       "      <th>896</th>\n",
       "      <td>Russia</td>\n",
       "      <td>2–2</td>\n",
       "      <td>Croatia</td>\n",
       "      <td>2018</td>\n",
       "    </tr>\n",
       "    <tr>\n",
       "      <th>897</th>\n",
       "      <td>France</td>\n",
       "      <td>1–0</td>\n",
       "      <td>Belgium</td>\n",
       "      <td>2018</td>\n",
       "    </tr>\n",
       "    <tr>\n",
       "      <th>898</th>\n",
       "      <td>Croatia</td>\n",
       "      <td>2–1</td>\n",
       "      <td>England</td>\n",
       "      <td>2018</td>\n",
       "    </tr>\n",
       "    <tr>\n",
       "      <th>899</th>\n",
       "      <td>Belgium</td>\n",
       "      <td>2–0</td>\n",
       "      <td>England</td>\n",
       "      <td>2018</td>\n",
       "    </tr>\n",
       "    <tr>\n",
       "      <th>900</th>\n",
       "      <td>France</td>\n",
       "      <td>4–2</td>\n",
       "      <td>Croatia</td>\n",
       "      <td>2018</td>\n",
       "    </tr>\n",
       "  </tbody>\n",
       "</table>\n",
       "<p>900 rows × 4 columns</p>\n",
       "</div>"
      ],
      "text/plain": [
       "     First_team Score Second_team  Year\n",
       "0       France    4–1      Mexico  1930\n",
       "1    Argentina    1–0      France  1930\n",
       "2        Chile    3–0      Mexico  1930\n",
       "3        Chile    1–0      France  1930\n",
       "4    Argentina    6–3      Mexico  1930\n",
       "..          ...   ...         ...   ...\n",
       "896     Russia    2–2     Croatia  2018\n",
       "897     France    1–0     Belgium  2018\n",
       "898    Croatia    2–1     England  2018\n",
       "899    Belgium    2–0     England  2018\n",
       "900     France    4–2     Croatia  2018\n",
       "\n",
       "[900 rows x 4 columns]"
      ]
     },
     "execution_count": 18,
     "metadata": {},
     "output_type": "execute_result"
    }
   ],
   "source": [
    "df_historical_data"
   ]
  },
  {
   "cell_type": "code",
   "execution_count": 19,
   "id": "ce6f76ed",
   "metadata": {},
   "outputs": [
    {
     "data": {
      "text/plain": [
       "(array(['4–1', '1–0', '3–0', '6–3', '3–1', '2–1', '4–0', '6–1', '4–2',\n",
       "        '3–2', '7–1', '5–2', '1–1', '6–0', '3–3', '6–5', '2–0', '8–0',\n",
       "        '5–1', '2–2', '5–0', '9–0', '8–3', '7–0', '7–2', '4–4', '7–5',\n",
       "        '1–3', '7–3', '0–0', '5–3', '0–1', '4–3', '0–3', '0–2', '1–4',\n",
       "        '0–7', '1–2', '1–5', '10–1', '2–3', '3–4', '2–4', '0–4', '2–5',\n",
       "        '1–7'], dtype=object),\n",
       " 46)"
      ]
     },
     "execution_count": 19,
     "metadata": {},
     "output_type": "execute_result"
    }
   ],
   "source": [
    "df_historical_data.Score.unique(), len(df_historical_data.Score.unique())"
   ]
  },
  {
   "cell_type": "code",
   "execution_count": 20,
   "id": "17053e9f",
   "metadata": {},
   "outputs": [
    {
     "data": {
      "text/html": [
       "<div>\n",
       "<style scoped>\n",
       "    .dataframe tbody tr th:only-of-type {\n",
       "        vertical-align: middle;\n",
       "    }\n",
       "\n",
       "    .dataframe tbody tr th {\n",
       "        vertical-align: top;\n",
       "    }\n",
       "\n",
       "    .dataframe thead th {\n",
       "        text-align: right;\n",
       "    }\n",
       "</style>\n",
       "<table border=\"1\" class=\"dataframe\">\n",
       "  <thead>\n",
       "    <tr style=\"text-align: right;\">\n",
       "      <th></th>\n",
       "      <th>First_team</th>\n",
       "      <th>Score</th>\n",
       "      <th>Second_team</th>\n",
       "      <th>Year</th>\n",
       "    </tr>\n",
       "  </thead>\n",
       "  <tbody>\n",
       "  </tbody>\n",
       "</table>\n",
       "</div>"
      ],
      "text/plain": [
       "Empty DataFrame\n",
       "Columns: [First_team, Score, Second_team, Year]\n",
       "Index: []"
      ]
     },
     "execution_count": 20,
     "metadata": {},
     "output_type": "execute_result"
    }
   ],
   "source": [
    "df_historical_data[df_historical_data.Score.str.contains('[\\\\ ()]', regex=True)]\n",
    "\n",
    "# There's no data with \" (a.e.t)\""
   ]
  },
  {
   "cell_type": "markdown",
   "id": "a95181e2",
   "metadata": {},
   "source": [
    "### 3.2.5 Removing blank spaces from df_historical_data"
   ]
  },
  {
   "cell_type": "code",
   "execution_count": 21,
   "id": "7dc35b5d",
   "metadata": {},
   "outputs": [],
   "source": [
    "df_historical_data['First_team'] = df_historical_data.First_team.str.strip()\n",
    "df_historical_data['Score'] = df_historical_data.Score.str.strip()\n",
    "df_historical_data['Second_team'] = df_historical_data.Second_team.str.strip()"
   ]
  },
  {
   "cell_type": "code",
   "execution_count": 22,
   "id": "e33d7599",
   "metadata": {},
   "outputs": [
    {
     "data": {
      "text/plain": [
       "(array(['4–1', '1–0', '3–0', '6–3', '3–1', '2–1', '4–0', '6–1', '4–2',\n",
       "        '3–2', '7–1', '5–2', '1–1', '6–0', '3–3', '6–5', '2–0', '8–0',\n",
       "        '5–1', '2–2', '5–0', '9–0', '8–3', '7–0', '7–2', '4–4', '7–5',\n",
       "        '1–3', '7–3', '0–0', '5–3', '0–1', '4–3', '0–3', '0–2', '1–4',\n",
       "        '0–7', '1–2', '1–5', '10–1', '2–3', '3–4', '2–4', '0–4', '2–5',\n",
       "        '1–7'], dtype=object),\n",
       " 46)"
      ]
     },
     "execution_count": 22,
     "metadata": {},
     "output_type": "execute_result"
    }
   ],
   "source": [
    "df_historical_data.Score.unique(), len(df_historical_data.Score.unique())"
   ]
  },
  {
   "cell_type": "code",
   "execution_count": 23,
   "id": "f7682786",
   "metadata": {},
   "outputs": [
    {
     "data": {
      "text/html": [
       "<div>\n",
       "<style scoped>\n",
       "    .dataframe tbody tr th:only-of-type {\n",
       "        vertical-align: middle;\n",
       "    }\n",
       "\n",
       "    .dataframe tbody tr th {\n",
       "        vertical-align: top;\n",
       "    }\n",
       "\n",
       "    .dataframe thead th {\n",
       "        text-align: right;\n",
       "    }\n",
       "</style>\n",
       "<table border=\"1\" class=\"dataframe\">\n",
       "  <thead>\n",
       "    <tr style=\"text-align: right;\">\n",
       "      <th></th>\n",
       "      <th>First_team</th>\n",
       "      <th>Score</th>\n",
       "      <th>Second_team</th>\n",
       "      <th>Year</th>\n",
       "    </tr>\n",
       "  </thead>\n",
       "  <tbody>\n",
       "    <tr>\n",
       "      <th>0</th>\n",
       "      <td>France</td>\n",
       "      <td>4–1</td>\n",
       "      <td>Mexico</td>\n",
       "      <td>1930</td>\n",
       "    </tr>\n",
       "    <tr>\n",
       "      <th>1</th>\n",
       "      <td>Argentina</td>\n",
       "      <td>1–0</td>\n",
       "      <td>France</td>\n",
       "      <td>1930</td>\n",
       "    </tr>\n",
       "    <tr>\n",
       "      <th>2</th>\n",
       "      <td>Chile</td>\n",
       "      <td>3–0</td>\n",
       "      <td>Mexico</td>\n",
       "      <td>1930</td>\n",
       "    </tr>\n",
       "    <tr>\n",
       "      <th>3</th>\n",
       "      <td>Chile</td>\n",
       "      <td>1–0</td>\n",
       "      <td>France</td>\n",
       "      <td>1930</td>\n",
       "    </tr>\n",
       "    <tr>\n",
       "      <th>4</th>\n",
       "      <td>Argentina</td>\n",
       "      <td>6–3</td>\n",
       "      <td>Mexico</td>\n",
       "      <td>1930</td>\n",
       "    </tr>\n",
       "    <tr>\n",
       "      <th>...</th>\n",
       "      <td>...</td>\n",
       "      <td>...</td>\n",
       "      <td>...</td>\n",
       "      <td>...</td>\n",
       "    </tr>\n",
       "    <tr>\n",
       "      <th>896</th>\n",
       "      <td>Russia</td>\n",
       "      <td>2–2</td>\n",
       "      <td>Croatia</td>\n",
       "      <td>2018</td>\n",
       "    </tr>\n",
       "    <tr>\n",
       "      <th>897</th>\n",
       "      <td>France</td>\n",
       "      <td>1–0</td>\n",
       "      <td>Belgium</td>\n",
       "      <td>2018</td>\n",
       "    </tr>\n",
       "    <tr>\n",
       "      <th>898</th>\n",
       "      <td>Croatia</td>\n",
       "      <td>2–1</td>\n",
       "      <td>England</td>\n",
       "      <td>2018</td>\n",
       "    </tr>\n",
       "    <tr>\n",
       "      <th>899</th>\n",
       "      <td>Belgium</td>\n",
       "      <td>2–0</td>\n",
       "      <td>England</td>\n",
       "      <td>2018</td>\n",
       "    </tr>\n",
       "    <tr>\n",
       "      <th>900</th>\n",
       "      <td>France</td>\n",
       "      <td>4–2</td>\n",
       "      <td>Croatia</td>\n",
       "      <td>2018</td>\n",
       "    </tr>\n",
       "  </tbody>\n",
       "</table>\n",
       "<p>900 rows × 4 columns</p>\n",
       "</div>"
      ],
      "text/plain": [
       "    First_team Score Second_team  Year\n",
       "0       France   4–1      Mexico  1930\n",
       "1    Argentina   1–0      France  1930\n",
       "2        Chile   3–0      Mexico  1930\n",
       "3        Chile   1–0      France  1930\n",
       "4    Argentina   6–3      Mexico  1930\n",
       "..         ...   ...         ...   ...\n",
       "896     Russia   2–2     Croatia  2018\n",
       "897     France   1–0     Belgium  2018\n",
       "898    Croatia   2–1     England  2018\n",
       "899    Belgium   2–0     England  2018\n",
       "900     France   4–2     Croatia  2018\n",
       "\n",
       "[900 rows x 4 columns]"
      ]
     },
     "execution_count": 23,
     "metadata": {},
     "output_type": "execute_result"
    }
   ],
   "source": [
    "df_historical_data"
   ]
  },
  {
   "cell_type": "markdown",
   "id": "e081f544",
   "metadata": {},
   "source": [
    "### 3.2.6 Splitting the \"Score\" column"
   ]
  },
  {
   "cell_type": "code",
   "execution_count": 24,
   "id": "91c2924c",
   "metadata": {},
   "outputs": [
    {
     "data": {
      "text/html": [
       "<div>\n",
       "<style scoped>\n",
       "    .dataframe tbody tr th:only-of-type {\n",
       "        vertical-align: middle;\n",
       "    }\n",
       "\n",
       "    .dataframe tbody tr th {\n",
       "        vertical-align: top;\n",
       "    }\n",
       "\n",
       "    .dataframe thead th {\n",
       "        text-align: right;\n",
       "    }\n",
       "</style>\n",
       "<table border=\"1\" class=\"dataframe\">\n",
       "  <thead>\n",
       "    <tr style=\"text-align: right;\">\n",
       "      <th></th>\n",
       "      <th>First_team</th>\n",
       "      <th>Score</th>\n",
       "      <th>Second_team</th>\n",
       "      <th>Year</th>\n",
       "    </tr>\n",
       "  </thead>\n",
       "  <tbody>\n",
       "    <tr>\n",
       "      <th>0</th>\n",
       "      <td>France</td>\n",
       "      <td>4–1</td>\n",
       "      <td>Mexico</td>\n",
       "      <td>1930</td>\n",
       "    </tr>\n",
       "    <tr>\n",
       "      <th>1</th>\n",
       "      <td>Argentina</td>\n",
       "      <td>1–0</td>\n",
       "      <td>France</td>\n",
       "      <td>1930</td>\n",
       "    </tr>\n",
       "    <tr>\n",
       "      <th>2</th>\n",
       "      <td>Chile</td>\n",
       "      <td>3–0</td>\n",
       "      <td>Mexico</td>\n",
       "      <td>1930</td>\n",
       "    </tr>\n",
       "    <tr>\n",
       "      <th>3</th>\n",
       "      <td>Chile</td>\n",
       "      <td>1–0</td>\n",
       "      <td>France</td>\n",
       "      <td>1930</td>\n",
       "    </tr>\n",
       "    <tr>\n",
       "      <th>4</th>\n",
       "      <td>Argentina</td>\n",
       "      <td>6–3</td>\n",
       "      <td>Mexico</td>\n",
       "      <td>1930</td>\n",
       "    </tr>\n",
       "    <tr>\n",
       "      <th>...</th>\n",
       "      <td>...</td>\n",
       "      <td>...</td>\n",
       "      <td>...</td>\n",
       "      <td>...</td>\n",
       "    </tr>\n",
       "    <tr>\n",
       "      <th>896</th>\n",
       "      <td>Russia</td>\n",
       "      <td>2–2</td>\n",
       "      <td>Croatia</td>\n",
       "      <td>2018</td>\n",
       "    </tr>\n",
       "    <tr>\n",
       "      <th>897</th>\n",
       "      <td>France</td>\n",
       "      <td>1–0</td>\n",
       "      <td>Belgium</td>\n",
       "      <td>2018</td>\n",
       "    </tr>\n",
       "    <tr>\n",
       "      <th>898</th>\n",
       "      <td>Croatia</td>\n",
       "      <td>2–1</td>\n",
       "      <td>England</td>\n",
       "      <td>2018</td>\n",
       "    </tr>\n",
       "    <tr>\n",
       "      <th>899</th>\n",
       "      <td>Belgium</td>\n",
       "      <td>2–0</td>\n",
       "      <td>England</td>\n",
       "      <td>2018</td>\n",
       "    </tr>\n",
       "    <tr>\n",
       "      <th>900</th>\n",
       "      <td>France</td>\n",
       "      <td>4–2</td>\n",
       "      <td>Croatia</td>\n",
       "      <td>2018</td>\n",
       "    </tr>\n",
       "  </tbody>\n",
       "</table>\n",
       "<p>900 rows × 4 columns</p>\n",
       "</div>"
      ],
      "text/plain": [
       "    First_team Score Second_team  Year\n",
       "0       France   4–1      Mexico  1930\n",
       "1    Argentina   1–0      France  1930\n",
       "2        Chile   3–0      Mexico  1930\n",
       "3        Chile   1–0      France  1930\n",
       "4    Argentina   6–3      Mexico  1930\n",
       "..         ...   ...         ...   ...\n",
       "896     Russia   2–2     Croatia  2018\n",
       "897     France   1–0     Belgium  2018\n",
       "898    Croatia   2–1     England  2018\n",
       "899    Belgium   2–0     England  2018\n",
       "900     France   4–2     Croatia  2018\n",
       "\n",
       "[900 rows x 4 columns]"
      ]
     },
     "execution_count": 24,
     "metadata": {},
     "output_type": "execute_result"
    }
   ],
   "source": [
    "df_historical_data"
   ]
  },
  {
   "cell_type": "code",
   "execution_count": 25,
   "id": "541acb50",
   "metadata": {},
   "outputs": [],
   "source": [
    "# Create two columns with the goals of each team from the \"Score\" column.\n",
    "df_historical_data[['First_team_goals','Second_team_goals']] = df_historical_data.Score.str.split('–', expand=True)"
   ]
  },
  {
   "cell_type": "code",
   "execution_count": 26,
   "id": "a59071fd",
   "metadata": {},
   "outputs": [
    {
     "data": {
      "text/html": [
       "<div>\n",
       "<style scoped>\n",
       "    .dataframe tbody tr th:only-of-type {\n",
       "        vertical-align: middle;\n",
       "    }\n",
       "\n",
       "    .dataframe tbody tr th {\n",
       "        vertical-align: top;\n",
       "    }\n",
       "\n",
       "    .dataframe thead th {\n",
       "        text-align: right;\n",
       "    }\n",
       "</style>\n",
       "<table border=\"1\" class=\"dataframe\">\n",
       "  <thead>\n",
       "    <tr style=\"text-align: right;\">\n",
       "      <th></th>\n",
       "      <th>First_team</th>\n",
       "      <th>Score</th>\n",
       "      <th>Second_team</th>\n",
       "      <th>Year</th>\n",
       "      <th>First_team_goals</th>\n",
       "      <th>Second_team_goals</th>\n",
       "    </tr>\n",
       "  </thead>\n",
       "  <tbody>\n",
       "    <tr>\n",
       "      <th>0</th>\n",
       "      <td>France</td>\n",
       "      <td>4–1</td>\n",
       "      <td>Mexico</td>\n",
       "      <td>1930</td>\n",
       "      <td>4</td>\n",
       "      <td>1</td>\n",
       "    </tr>\n",
       "    <tr>\n",
       "      <th>1</th>\n",
       "      <td>Argentina</td>\n",
       "      <td>1–0</td>\n",
       "      <td>France</td>\n",
       "      <td>1930</td>\n",
       "      <td>1</td>\n",
       "      <td>0</td>\n",
       "    </tr>\n",
       "    <tr>\n",
       "      <th>2</th>\n",
       "      <td>Chile</td>\n",
       "      <td>3–0</td>\n",
       "      <td>Mexico</td>\n",
       "      <td>1930</td>\n",
       "      <td>3</td>\n",
       "      <td>0</td>\n",
       "    </tr>\n",
       "    <tr>\n",
       "      <th>3</th>\n",
       "      <td>Chile</td>\n",
       "      <td>1–0</td>\n",
       "      <td>France</td>\n",
       "      <td>1930</td>\n",
       "      <td>1</td>\n",
       "      <td>0</td>\n",
       "    </tr>\n",
       "    <tr>\n",
       "      <th>4</th>\n",
       "      <td>Argentina</td>\n",
       "      <td>6–3</td>\n",
       "      <td>Mexico</td>\n",
       "      <td>1930</td>\n",
       "      <td>6</td>\n",
       "      <td>3</td>\n",
       "    </tr>\n",
       "  </tbody>\n",
       "</table>\n",
       "</div>"
      ],
      "text/plain": [
       "  First_team Score Second_team  Year First_team_goals Second_team_goals\n",
       "0     France   4–1      Mexico  1930                4                 1\n",
       "1  Argentina   1–0      France  1930                1                 0\n",
       "2      Chile   3–0      Mexico  1930                3                 0\n",
       "3      Chile   1–0      France  1930                1                 0\n",
       "4  Argentina   6–3      Mexico  1930                6                 3"
      ]
     },
     "execution_count": 26,
     "metadata": {},
     "output_type": "execute_result"
    }
   ],
   "source": [
    "df_historical_data.head()"
   ]
  },
  {
   "cell_type": "code",
   "execution_count": 27,
   "id": "4ed50cd0",
   "metadata": {},
   "outputs": [],
   "source": [
    "# Remove \"Score\" column\n",
    "df_historical_data.drop(columns='Score', inplace=True)"
   ]
  },
  {
   "cell_type": "code",
   "execution_count": 28,
   "id": "e04eb4b2",
   "metadata": {},
   "outputs": [
    {
     "data": {
      "text/html": [
       "<div>\n",
       "<style scoped>\n",
       "    .dataframe tbody tr th:only-of-type {\n",
       "        vertical-align: middle;\n",
       "    }\n",
       "\n",
       "    .dataframe tbody tr th {\n",
       "        vertical-align: top;\n",
       "    }\n",
       "\n",
       "    .dataframe thead th {\n",
       "        text-align: right;\n",
       "    }\n",
       "</style>\n",
       "<table border=\"1\" class=\"dataframe\">\n",
       "  <thead>\n",
       "    <tr style=\"text-align: right;\">\n",
       "      <th></th>\n",
       "      <th>First_team</th>\n",
       "      <th>Second_team</th>\n",
       "      <th>Year</th>\n",
       "      <th>First_team_goals</th>\n",
       "      <th>Second_team_goals</th>\n",
       "    </tr>\n",
       "  </thead>\n",
       "  <tbody>\n",
       "    <tr>\n",
       "      <th>0</th>\n",
       "      <td>France</td>\n",
       "      <td>Mexico</td>\n",
       "      <td>1930</td>\n",
       "      <td>4</td>\n",
       "      <td>1</td>\n",
       "    </tr>\n",
       "    <tr>\n",
       "      <th>1</th>\n",
       "      <td>Argentina</td>\n",
       "      <td>France</td>\n",
       "      <td>1930</td>\n",
       "      <td>1</td>\n",
       "      <td>0</td>\n",
       "    </tr>\n",
       "    <tr>\n",
       "      <th>2</th>\n",
       "      <td>Chile</td>\n",
       "      <td>Mexico</td>\n",
       "      <td>1930</td>\n",
       "      <td>3</td>\n",
       "      <td>0</td>\n",
       "    </tr>\n",
       "    <tr>\n",
       "      <th>3</th>\n",
       "      <td>Chile</td>\n",
       "      <td>France</td>\n",
       "      <td>1930</td>\n",
       "      <td>1</td>\n",
       "      <td>0</td>\n",
       "    </tr>\n",
       "    <tr>\n",
       "      <th>4</th>\n",
       "      <td>Argentina</td>\n",
       "      <td>Mexico</td>\n",
       "      <td>1930</td>\n",
       "      <td>6</td>\n",
       "      <td>3</td>\n",
       "    </tr>\n",
       "    <tr>\n",
       "      <th>...</th>\n",
       "      <td>...</td>\n",
       "      <td>...</td>\n",
       "      <td>...</td>\n",
       "      <td>...</td>\n",
       "      <td>...</td>\n",
       "    </tr>\n",
       "    <tr>\n",
       "      <th>896</th>\n",
       "      <td>Russia</td>\n",
       "      <td>Croatia</td>\n",
       "      <td>2018</td>\n",
       "      <td>2</td>\n",
       "      <td>2</td>\n",
       "    </tr>\n",
       "    <tr>\n",
       "      <th>897</th>\n",
       "      <td>France</td>\n",
       "      <td>Belgium</td>\n",
       "      <td>2018</td>\n",
       "      <td>1</td>\n",
       "      <td>0</td>\n",
       "    </tr>\n",
       "    <tr>\n",
       "      <th>898</th>\n",
       "      <td>Croatia</td>\n",
       "      <td>England</td>\n",
       "      <td>2018</td>\n",
       "      <td>2</td>\n",
       "      <td>1</td>\n",
       "    </tr>\n",
       "    <tr>\n",
       "      <th>899</th>\n",
       "      <td>Belgium</td>\n",
       "      <td>England</td>\n",
       "      <td>2018</td>\n",
       "      <td>2</td>\n",
       "      <td>0</td>\n",
       "    </tr>\n",
       "    <tr>\n",
       "      <th>900</th>\n",
       "      <td>France</td>\n",
       "      <td>Croatia</td>\n",
       "      <td>2018</td>\n",
       "      <td>4</td>\n",
       "      <td>2</td>\n",
       "    </tr>\n",
       "  </tbody>\n",
       "</table>\n",
       "<p>900 rows × 5 columns</p>\n",
       "</div>"
      ],
      "text/plain": [
       "    First_team Second_team  Year First_team_goals Second_team_goals\n",
       "0       France      Mexico  1930                4                 1\n",
       "1    Argentina      France  1930                1                 0\n",
       "2        Chile      Mexico  1930                3                 0\n",
       "3        Chile      France  1930                1                 0\n",
       "4    Argentina      Mexico  1930                6                 3\n",
       "..         ...         ...   ...              ...               ...\n",
       "896     Russia     Croatia  2018                2                 2\n",
       "897     France     Belgium  2018                1                 0\n",
       "898    Croatia     England  2018                2                 1\n",
       "899    Belgium     England  2018                2                 0\n",
       "900     France     Croatia  2018                4                 2\n",
       "\n",
       "[900 rows x 5 columns]"
      ]
     },
     "execution_count": 28,
     "metadata": {},
     "output_type": "execute_result"
    }
   ],
   "source": [
    "df_historical_data"
   ]
  },
  {
   "cell_type": "markdown",
   "id": "fd95160d",
   "metadata": {},
   "source": [
    "### 3.2.7 Rename columns"
   ]
  },
  {
   "cell_type": "code",
   "execution_count": 29,
   "id": "f7a74c34",
   "metadata": {},
   "outputs": [],
   "source": [
    "# Rename columns from a dictionary.\n",
    "df_historical_data.rename(columns={'First_team':'FirstTeam', \n",
    "                                   'Second_team':'SecondTeam', \n",
    "                                   'First_team_goals': 'FirstTeamGoals',\n",
    "                                   'Second_team_goals': 'SecondTeamGoals'},\n",
    "                          inplace=True\n",
    "                         )"
   ]
  },
  {
   "cell_type": "code",
   "execution_count": 30,
   "id": "49f1d059",
   "metadata": {},
   "outputs": [
    {
     "data": {
      "text/html": [
       "<div>\n",
       "<style scoped>\n",
       "    .dataframe tbody tr th:only-of-type {\n",
       "        vertical-align: middle;\n",
       "    }\n",
       "\n",
       "    .dataframe tbody tr th {\n",
       "        vertical-align: top;\n",
       "    }\n",
       "\n",
       "    .dataframe thead th {\n",
       "        text-align: right;\n",
       "    }\n",
       "</style>\n",
       "<table border=\"1\" class=\"dataframe\">\n",
       "  <thead>\n",
       "    <tr style=\"text-align: right;\">\n",
       "      <th></th>\n",
       "      <th>FirstTeam</th>\n",
       "      <th>SecondTeam</th>\n",
       "      <th>Year</th>\n",
       "      <th>FirstTeamGoals</th>\n",
       "      <th>SecondTeamGoals</th>\n",
       "    </tr>\n",
       "  </thead>\n",
       "  <tbody>\n",
       "    <tr>\n",
       "      <th>0</th>\n",
       "      <td>France</td>\n",
       "      <td>Mexico</td>\n",
       "      <td>1930</td>\n",
       "      <td>4</td>\n",
       "      <td>1</td>\n",
       "    </tr>\n",
       "    <tr>\n",
       "      <th>1</th>\n",
       "      <td>Argentina</td>\n",
       "      <td>France</td>\n",
       "      <td>1930</td>\n",
       "      <td>1</td>\n",
       "      <td>0</td>\n",
       "    </tr>\n",
       "    <tr>\n",
       "      <th>2</th>\n",
       "      <td>Chile</td>\n",
       "      <td>Mexico</td>\n",
       "      <td>1930</td>\n",
       "      <td>3</td>\n",
       "      <td>0</td>\n",
       "    </tr>\n",
       "    <tr>\n",
       "      <th>3</th>\n",
       "      <td>Chile</td>\n",
       "      <td>France</td>\n",
       "      <td>1930</td>\n",
       "      <td>1</td>\n",
       "      <td>0</td>\n",
       "    </tr>\n",
       "    <tr>\n",
       "      <th>4</th>\n",
       "      <td>Argentina</td>\n",
       "      <td>Mexico</td>\n",
       "      <td>1930</td>\n",
       "      <td>6</td>\n",
       "      <td>3</td>\n",
       "    </tr>\n",
       "    <tr>\n",
       "      <th>...</th>\n",
       "      <td>...</td>\n",
       "      <td>...</td>\n",
       "      <td>...</td>\n",
       "      <td>...</td>\n",
       "      <td>...</td>\n",
       "    </tr>\n",
       "    <tr>\n",
       "      <th>896</th>\n",
       "      <td>Russia</td>\n",
       "      <td>Croatia</td>\n",
       "      <td>2018</td>\n",
       "      <td>2</td>\n",
       "      <td>2</td>\n",
       "    </tr>\n",
       "    <tr>\n",
       "      <th>897</th>\n",
       "      <td>France</td>\n",
       "      <td>Belgium</td>\n",
       "      <td>2018</td>\n",
       "      <td>1</td>\n",
       "      <td>0</td>\n",
       "    </tr>\n",
       "    <tr>\n",
       "      <th>898</th>\n",
       "      <td>Croatia</td>\n",
       "      <td>England</td>\n",
       "      <td>2018</td>\n",
       "      <td>2</td>\n",
       "      <td>1</td>\n",
       "    </tr>\n",
       "    <tr>\n",
       "      <th>899</th>\n",
       "      <td>Belgium</td>\n",
       "      <td>England</td>\n",
       "      <td>2018</td>\n",
       "      <td>2</td>\n",
       "      <td>0</td>\n",
       "    </tr>\n",
       "    <tr>\n",
       "      <th>900</th>\n",
       "      <td>France</td>\n",
       "      <td>Croatia</td>\n",
       "      <td>2018</td>\n",
       "      <td>4</td>\n",
       "      <td>2</td>\n",
       "    </tr>\n",
       "  </tbody>\n",
       "</table>\n",
       "<p>900 rows × 5 columns</p>\n",
       "</div>"
      ],
      "text/plain": [
       "     FirstTeam SecondTeam  Year FirstTeamGoals SecondTeamGoals\n",
       "0       France     Mexico  1930              4               1\n",
       "1    Argentina     France  1930              1               0\n",
       "2        Chile     Mexico  1930              3               0\n",
       "3        Chile     France  1930              1               0\n",
       "4    Argentina     Mexico  1930              6               3\n",
       "..         ...        ...   ...            ...             ...\n",
       "896     Russia    Croatia  2018              2               2\n",
       "897     France    Belgium  2018              1               0\n",
       "898    Croatia    England  2018              2               1\n",
       "899    Belgium    England  2018              2               0\n",
       "900     France    Croatia  2018              4               2\n",
       "\n",
       "[900 rows x 5 columns]"
      ]
     },
     "execution_count": 30,
     "metadata": {},
     "output_type": "execute_result"
    }
   ],
   "source": [
    "df_historical_data"
   ]
  },
  {
   "cell_type": "markdown",
   "id": "d3a9acc0",
   "metadata": {},
   "source": [
    "### 3.2.8 Change data type"
   ]
  },
  {
   "cell_type": "code",
   "execution_count": 31,
   "id": "c08b2aa5",
   "metadata": {},
   "outputs": [
    {
     "data": {
      "text/plain": [
       "FirstTeam          object\n",
       "SecondTeam         object\n",
       "Year                int64\n",
       "FirstTeamGoals     object\n",
       "SecondTeamGoals    object\n",
       "dtype: object"
      ]
     },
     "execution_count": 31,
     "metadata": {},
     "output_type": "execute_result"
    }
   ],
   "source": [
    "df_historical_data.dtypes"
   ]
  },
  {
   "cell_type": "code",
   "execution_count": 32,
   "id": "0c698c01",
   "metadata": {},
   "outputs": [
    {
     "data": {
      "text/plain": [
       "Index(['FirstTeam', 'SecondTeam', 'Year', 'FirstTeamGoals', 'SecondTeamGoals'], dtype='object')"
      ]
     },
     "execution_count": 32,
     "metadata": {},
     "output_type": "execute_result"
    }
   ],
   "source": [
    "df_historical_data.columns"
   ]
  },
  {
   "cell_type": "code",
   "execution_count": 33,
   "id": "90320ab3",
   "metadata": {},
   "outputs": [],
   "source": [
    "# Columns: FirstTeamGoals and SecondTeamGoals to integer type\n",
    "df_historical_data = df_historical_data.astype({'FirstTeamGoals':'int16', \n",
    "                                                'SecondTeamGoals':int}\n",
    "                                              )"
   ]
  },
  {
   "cell_type": "code",
   "execution_count": 34,
   "id": "cd782626",
   "metadata": {},
   "outputs": [
    {
     "data": {
      "text/plain": [
       "FirstTeam          object\n",
       "SecondTeam         object\n",
       "Year                int64\n",
       "FirstTeamGoals      int16\n",
       "SecondTeamGoals     int32\n",
       "dtype: object"
      ]
     },
     "execution_count": 34,
     "metadata": {},
     "output_type": "execute_result"
    }
   ],
   "source": [
    "df_historical_data.dtypes"
   ]
  },
  {
   "cell_type": "markdown",
   "id": "fcef8b3c",
   "metadata": {},
   "source": [
    "### 3.2.9 Verifying number of matches per worldcup"
   ]
  },
  {
   "cell_type": "code",
   "execution_count": 35,
   "id": "6f26aee1",
   "metadata": {},
   "outputs": [
    {
     "name": "stdout",
     "output_type": "stream",
     "text": [
      "Year   Matches\n",
      "1930   18\n",
      "1934   17\n",
      "1938   18\n",
      "1942   0\n",
      "1946   0\n",
      "1950   22\n",
      "1954   26\n",
      "1958   35\n",
      "1962   32\n",
      "1966   32\n",
      "1970   32\n",
      "1974   38\n",
      "1978   38\n",
      "1982   52\n",
      "1986   52\n",
      "1990   52\n",
      "1994   52\n",
      "1998   64\n",
      "2002   64\n",
      "2006   64\n",
      "2010   64\n",
      "2014   64\n",
      "2018   64\n"
     ]
    }
   ],
   "source": [
    "years = [y for y in range(1930, 2022, 4)]\n",
    "\n",
    "print('Year   Matches')\n",
    "for year in years:\n",
    "    print(year, ' ',len(df_historical_data[df_historical_data.Year == year]))\n",
    "    \n",
    "# World Cups of 1942 and 1946 were not held."
   ]
  },
  {
   "cell_type": "markdown",
   "id": "56d794bd",
   "metadata": {},
   "source": [
    "## 3.3 Export clean DataFrames"
   ]
  },
  {
   "cell_type": "code",
   "execution_count": 36,
   "id": "1865351f",
   "metadata": {},
   "outputs": [],
   "source": [
    "# Save the clean DataFrames to csv file\n",
    "df_fixture_data.to_csv('data/Fixture_data_clean.csv', index=False)\n",
    "df_historical_data.to_csv('data/Historical_data_clean.csv', index=False)"
   ]
  }
 ],
 "metadata": {
  "kernelspec": {
   "display_name": "Python 3 (ipykernel)",
   "language": "python",
   "name": "python3"
  },
  "language_info": {
   "codemirror_mode": {
    "name": "ipython",
    "version": 3
   },
   "file_extension": ".py",
   "mimetype": "text/x-python",
   "name": "python",
   "nbconvert_exporter": "python",
   "pygments_lexer": "ipython3",
   "version": "3.10.11"
  }
 },
 "nbformat": 4,
 "nbformat_minor": 5
}

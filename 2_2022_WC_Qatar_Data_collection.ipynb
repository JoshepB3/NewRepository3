{
 "cells": [
  {
   "cell_type": "markdown",
   "metadata": {},
   "source": [
    "**DESCRIPTION:**\n",
    "\n",
    "This Jupyter Notebook shows the data collection of world cup matches from 1930 to 2018 and fixture in the Qatar 2022 World Cup. The \"web scraping\" will be done with the BeautifulSoup library to finally both be saved as a csv file."
   ]
  },
  {
   "cell_type": "markdown",
   "metadata": {},
   "source": [
    "# 2. Data collection of worldcup matches from 1930 to 2018 and Qatar 2022 fixture with BeautifulSoup"
   ]
  },
  {
   "cell_type": "code",
   "execution_count": 1,
   "metadata": {},
   "outputs": [],
   "source": [
    "# To install BeautifulSoup\n",
    "# !pip install bs4"
   ]
  },
  {
   "cell_type": "markdown",
   "metadata": {},
   "source": [
    "**Libraries**"
   ]
  },
  {
   "cell_type": "code",
   "execution_count": 2,
   "metadata": {},
   "outputs": [],
   "source": [
    "from bs4 import BeautifulSoup   #Web scraping"
   ]
  },
  {
   "cell_type": "code",
   "execution_count": 3,
   "metadata": {},
   "outputs": [],
   "source": [
    "import requests   #Send requests to a web page"
   ]
  },
  {
   "cell_type": "code",
   "execution_count": 4,
   "metadata": {},
   "outputs": [],
   "source": [
    "import pandas as pd   #DataFrame"
   ]
  },
  {
   "cell_type": "markdown",
   "metadata": {},
   "source": [
    "## 2.1 Data collection of worldcup matches from 1930 to 2018 with BeautifulSoup"
   ]
  },
  {
   "cell_type": "markdown",
   "metadata": {},
   "source": [
    "### 2.1.1 Web scraping"
   ]
  },
  {
   "cell_type": "code",
   "execution_count": 5,
   "metadata": {},
   "outputs": [
    {
     "data": {
      "text/plain": [
       "[1930,\n",
       " 1934,\n",
       " 1938,\n",
       " 1942,\n",
       " 1946,\n",
       " 1950,\n",
       " 1954,\n",
       " 1958,\n",
       " 1962,\n",
       " 1966,\n",
       " 1970,\n",
       " 1974,\n",
       " 1978,\n",
       " 1982,\n",
       " 1986,\n",
       " 1990,\n",
       " 1994,\n",
       " 1998,\n",
       " 2002,\n",
       " 2006,\n",
       " 2010,\n",
       " 2014,\n",
       " 2018]"
      ]
     },
     "execution_count": 5,
     "metadata": {},
     "output_type": "execute_result"
    }
   ],
   "source": [
    "# Generate a list of years of all worldcups\n",
    "years = [x for x in range(1930, 2019, 4)]\n",
    "years"
   ]
  },
  {
   "cell_type": "code",
   "execution_count": 6,
   "metadata": {},
   "outputs": [],
   "source": [
    "# Function to extract the matches of every world cup\n",
    "def get_matches(year):\n",
    "\n",
    "    website = f'https://en.wikipedia.org/wiki/{year}_FIFA_World_Cup'   # website link\n",
    "\n",
    "    response = requests.get(website)   # Request website\n",
    "    content = response.text   # Response in text format\n",
    "    soup = BeautifulSoup(content, 'lxml')   # assigning the parse 'lxml'\n",
    "\n",
    "    # Searching multiple items\n",
    "    matches = soup.find_all('div', class_=\"footballbox\")   #list\n",
    "\n",
    "    # Empty lists\n",
    "    first_team = []\n",
    "    score = []\n",
    "    second_team = []\n",
    "\n",
    "    # Two teams and the goals\n",
    "    for match in matches:\n",
    "        first_team.append(match.find('th', class_=\"fhome\").get_text())\n",
    "        score.append(match.find('th', class_=\"fscore\").get_text())\n",
    "        second_team.append(match.find('th', class_=\"faway\").get_text())\n",
    "\n",
    "    # A dictionary\n",
    "    dict_football = {'First_team':first_team, 'Score':score, 'Second_team':second_team}\n",
    "\n",
    "\n",
    "    # Create DataFrame\n",
    "    df_football = pd.DataFrame(dict_football)\n",
    "\n",
    "    # Create a column for its year\n",
    "    df_football['Year'] = year\n",
    "    df_football\n",
    "    \n",
    "    return df_football"
   ]
  },
  {
   "cell_type": "code",
   "execution_count": 7,
   "metadata": {},
   "outputs": [],
   "source": [
    "# Use the function \"get_matches()\" to get a list of all the World Cup matches.\n",
    "world_cups = [get_matches(year) for year in years]"
   ]
  },
  {
   "cell_type": "code",
   "execution_count": 8,
   "metadata": {},
   "outputs": [],
   "source": [
    "# Showing all the matches of each World Cup\n",
    "#world_cups"
   ]
  },
  {
   "cell_type": "markdown",
   "metadata": {},
   "source": [
    "### 2.1.2 Save list in a DataFrame"
   ]
  },
  {
   "cell_type": "code",
   "execution_count": 9,
   "metadata": {},
   "outputs": [
    {
     "data": {
      "text/html": [
       "<div>\n",
       "<style scoped>\n",
       "    .dataframe tbody tr th:only-of-type {\n",
       "        vertical-align: middle;\n",
       "    }\n",
       "\n",
       "    .dataframe tbody tr th {\n",
       "        vertical-align: top;\n",
       "    }\n",
       "\n",
       "    .dataframe thead th {\n",
       "        text-align: right;\n",
       "    }\n",
       "</style>\n",
       "<table border=\"1\" class=\"dataframe\">\n",
       "  <thead>\n",
       "    <tr style=\"text-align: right;\">\n",
       "      <th></th>\n",
       "      <th>First_team</th>\n",
       "      <th>Score</th>\n",
       "      <th>Second_team</th>\n",
       "      <th>Year</th>\n",
       "    </tr>\n",
       "  </thead>\n",
       "  <tbody>\n",
       "    <tr>\n",
       "      <th>0</th>\n",
       "      <td>France</td>\n",
       "      <td>4–1</td>\n",
       "      <td>Mexico</td>\n",
       "      <td>1930</td>\n",
       "    </tr>\n",
       "    <tr>\n",
       "      <th>1</th>\n",
       "      <td>Argentina</td>\n",
       "      <td>1–0</td>\n",
       "      <td>France</td>\n",
       "      <td>1930</td>\n",
       "    </tr>\n",
       "    <tr>\n",
       "      <th>2</th>\n",
       "      <td>Chile</td>\n",
       "      <td>3–0</td>\n",
       "      <td>Mexico</td>\n",
       "      <td>1930</td>\n",
       "    </tr>\n",
       "    <tr>\n",
       "      <th>3</th>\n",
       "      <td>Chile</td>\n",
       "      <td>1–0</td>\n",
       "      <td>France</td>\n",
       "      <td>1930</td>\n",
       "    </tr>\n",
       "    <tr>\n",
       "      <th>4</th>\n",
       "      <td>Argentina</td>\n",
       "      <td>6–3</td>\n",
       "      <td>Mexico</td>\n",
       "      <td>1930</td>\n",
       "    </tr>\n",
       "    <tr>\n",
       "      <th>...</th>\n",
       "      <td>...</td>\n",
       "      <td>...</td>\n",
       "      <td>...</td>\n",
       "      <td>...</td>\n",
       "    </tr>\n",
       "    <tr>\n",
       "      <th>896</th>\n",
       "      <td>Russia</td>\n",
       "      <td>2–2 (a.e.t.)</td>\n",
       "      <td>Croatia</td>\n",
       "      <td>2018</td>\n",
       "    </tr>\n",
       "    <tr>\n",
       "      <th>897</th>\n",
       "      <td>France</td>\n",
       "      <td>1–0</td>\n",
       "      <td>Belgium</td>\n",
       "      <td>2018</td>\n",
       "    </tr>\n",
       "    <tr>\n",
       "      <th>898</th>\n",
       "      <td>Croatia</td>\n",
       "      <td>2–1 (a.e.t.)</td>\n",
       "      <td>England</td>\n",
       "      <td>2018</td>\n",
       "    </tr>\n",
       "    <tr>\n",
       "      <th>899</th>\n",
       "      <td>Belgium</td>\n",
       "      <td>2–0</td>\n",
       "      <td>England</td>\n",
       "      <td>2018</td>\n",
       "    </tr>\n",
       "    <tr>\n",
       "      <th>900</th>\n",
       "      <td>France</td>\n",
       "      <td>4–2</td>\n",
       "      <td>Croatia</td>\n",
       "      <td>2018</td>\n",
       "    </tr>\n",
       "  </tbody>\n",
       "</table>\n",
       "<p>901 rows × 4 columns</p>\n",
       "</div>"
      ],
      "text/plain": [
       "     First_team         Score Second_team  Year\n",
       "0       France            4–1      Mexico  1930\n",
       "1    Argentina            1–0      France  1930\n",
       "2        Chile            3–0      Mexico  1930\n",
       "3        Chile            1–0      France  1930\n",
       "4    Argentina            6–3      Mexico  1930\n",
       "..          ...           ...         ...   ...\n",
       "896     Russia   2–2 (a.e.t.)     Croatia  2018\n",
       "897     France            1–0     Belgium  2018\n",
       "898    Croatia   2–1 (a.e.t.)     England  2018\n",
       "899    Belgium            2–0     England  2018\n",
       "900     France            4–2     Croatia  2018\n",
       "\n",
       "[901 rows x 4 columns]"
      ]
     },
     "execution_count": 9,
     "metadata": {},
     "output_type": "execute_result"
    }
   ],
   "source": [
    "# Create a DataFrame of the concatenation of all the elements of the list \"world_cups\".\n",
    "df_world_cups = pd.concat(world_cups, ignore_index=True)\n",
    "df_world_cups"
   ]
  },
  {
   "cell_type": "markdown",
   "metadata": {},
   "source": [
    "### 2.1.3 Export dictionary as a csv file"
   ]
  },
  {
   "cell_type": "code",
   "execution_count": 10,
   "metadata": {},
   "outputs": [],
   "source": [
    "# Export all worldcups to an csv file\n",
    "#df_world_cups.to_csv('data/FIFA_Worldcup_historical_data.csv', index=False)"
   ]
  },
  {
   "cell_type": "markdown",
   "metadata": {},
   "source": [
    "## 2.2 Data collection of fixture in the Qatar 2022 World Cup with BeautifulSoup"
   ]
  },
  {
   "cell_type": "markdown",
   "metadata": {},
   "source": [
    "### 2.2.1 Web scraping"
   ]
  },
  {
   "cell_type": "code",
   "execution_count": 11,
   "metadata": {},
   "outputs": [],
   "source": [
    "# website link\n",
    "website = 'https://web.archive.org/web/20221115040351/https://en.wikipedia.org/wiki/2022_FIFA_World_Cup'"
   ]
  },
  {
   "cell_type": "code",
   "execution_count": 12,
   "metadata": {},
   "outputs": [],
   "source": [
    "response = requests.get(website)\n",
    "content = response.text\n",
    "soup = BeautifulSoup(content, 'lxml')   #assigning the parse 'lxml'\n",
    "\n",
    "# searching multiple items\n",
    "matches = soup.find_all('div', class_=\"footballbox\")   #list\n",
    "\n",
    "# Empty lists\n",
    "first_team = []\n",
    "score = []\n",
    "second_team = []\n",
    "\n",
    "# Two teams and the goals\n",
    "for match in matches:\n",
    "    first_team.append(match.find('th', class_=\"fhome\").get_text())\n",
    "    score.append(match.find('th', class_=\"fscore\").get_text())\n",
    "    second_team.append(match.find('th', class_=\"faway\").get_text())\n",
    "\n",
    "# A dictionary\n",
    "dict_football = {'First_team':first_team, 'Score':score, 'Second_team':second_team}"
   ]
  },
  {
   "cell_type": "markdown",
   "metadata": {},
   "source": [
    "### 2.2.2 Save in a DataFrame"
   ]
  },
  {
   "cell_type": "code",
   "execution_count": 13,
   "metadata": {},
   "outputs": [],
   "source": [
    "# Create DataFrame\n",
    "df_fixture = pd.DataFrame(dict_football)\n",
    "\n",
    "# Create a column for its year\n",
    "df_fixture['Year'] = 2022"
   ]
  },
  {
   "cell_type": "code",
   "execution_count": 14,
   "metadata": {},
   "outputs": [
    {
     "data": {
      "text/html": [
       "<div>\n",
       "<style scoped>\n",
       "    .dataframe tbody tr th:only-of-type {\n",
       "        vertical-align: middle;\n",
       "    }\n",
       "\n",
       "    .dataframe tbody tr th {\n",
       "        vertical-align: top;\n",
       "    }\n",
       "\n",
       "    .dataframe thead th {\n",
       "        text-align: right;\n",
       "    }\n",
       "</style>\n",
       "<table border=\"1\" class=\"dataframe\">\n",
       "  <thead>\n",
       "    <tr style=\"text-align: right;\">\n",
       "      <th></th>\n",
       "      <th>First_team</th>\n",
       "      <th>Score</th>\n",
       "      <th>Second_team</th>\n",
       "      <th>Year</th>\n",
       "    </tr>\n",
       "  </thead>\n",
       "  <tbody>\n",
       "    <tr>\n",
       "      <th>0</th>\n",
       "      <td>Qatar</td>\n",
       "      <td>Match 1</td>\n",
       "      <td>Ecuador</td>\n",
       "      <td>2022</td>\n",
       "    </tr>\n",
       "    <tr>\n",
       "      <th>1</th>\n",
       "      <td>Senegal</td>\n",
       "      <td>Match 2</td>\n",
       "      <td>Netherlands</td>\n",
       "      <td>2022</td>\n",
       "    </tr>\n",
       "    <tr>\n",
       "      <th>2</th>\n",
       "      <td>Qatar</td>\n",
       "      <td>Match 18</td>\n",
       "      <td>Senegal</td>\n",
       "      <td>2022</td>\n",
       "    </tr>\n",
       "    <tr>\n",
       "      <th>3</th>\n",
       "      <td>Netherlands</td>\n",
       "      <td>Match 19</td>\n",
       "      <td>Ecuador</td>\n",
       "      <td>2022</td>\n",
       "    </tr>\n",
       "    <tr>\n",
       "      <th>4</th>\n",
       "      <td>Ecuador</td>\n",
       "      <td>Match 35</td>\n",
       "      <td>Senegal</td>\n",
       "      <td>2022</td>\n",
       "    </tr>\n",
       "    <tr>\n",
       "      <th>...</th>\n",
       "      <td>...</td>\n",
       "      <td>...</td>\n",
       "      <td>...</td>\n",
       "      <td>...</td>\n",
       "    </tr>\n",
       "    <tr>\n",
       "      <th>59</th>\n",
       "      <td>Winners Match 51</td>\n",
       "      <td>Match 59</td>\n",
       "      <td>Winners Match 52</td>\n",
       "      <td>2022</td>\n",
       "    </tr>\n",
       "    <tr>\n",
       "      <th>60</th>\n",
       "      <td>Winners Match 57</td>\n",
       "      <td>Match 61</td>\n",
       "      <td>Winners Match 58</td>\n",
       "      <td>2022</td>\n",
       "    </tr>\n",
       "    <tr>\n",
       "      <th>61</th>\n",
       "      <td>Winners Match 59</td>\n",
       "      <td>Match 62</td>\n",
       "      <td>Winners Match 60</td>\n",
       "      <td>2022</td>\n",
       "    </tr>\n",
       "    <tr>\n",
       "      <th>62</th>\n",
       "      <td>Losers Match 61</td>\n",
       "      <td>Match 63</td>\n",
       "      <td>Losers Match 62</td>\n",
       "      <td>2022</td>\n",
       "    </tr>\n",
       "    <tr>\n",
       "      <th>63</th>\n",
       "      <td>Winners Match 61</td>\n",
       "      <td>Match 64</td>\n",
       "      <td>Winners Match 62</td>\n",
       "      <td>2022</td>\n",
       "    </tr>\n",
       "  </tbody>\n",
       "</table>\n",
       "<p>64 rows × 4 columns</p>\n",
       "</div>"
      ],
      "text/plain": [
       "          First_team     Score       Second_team  Year\n",
       "0             Qatar    Match 1           Ecuador  2022\n",
       "1           Senegal    Match 2       Netherlands  2022\n",
       "2             Qatar   Match 18           Senegal  2022\n",
       "3       Netherlands   Match 19           Ecuador  2022\n",
       "4           Ecuador   Match 35           Senegal  2022\n",
       "..               ...       ...               ...   ...\n",
       "59  Winners Match 51  Match 59  Winners Match 52  2022\n",
       "60  Winners Match 57  Match 61  Winners Match 58  2022\n",
       "61  Winners Match 59  Match 62  Winners Match 60  2022\n",
       "62   Losers Match 61  Match 63   Losers Match 62  2022\n",
       "63  Winners Match 61  Match 64  Winners Match 62  2022\n",
       "\n",
       "[64 rows x 4 columns]"
      ]
     },
     "execution_count": 14,
     "metadata": {},
     "output_type": "execute_result"
    }
   ],
   "source": [
    "# Fixture Qatar 2022\n",
    "df_fixture"
   ]
  },
  {
   "cell_type": "markdown",
   "metadata": {},
   "source": [
    "### 2.2.3 Export DataFrame as a csv file"
   ]
  },
  {
   "cell_type": "code",
   "execution_count": 15,
   "metadata": {},
   "outputs": [],
   "source": [
    "# Export worldcup Qatar 2022 to csv file\n",
    "df_fixture.to_csv('data/FIFA_Worldcup_2022_Qatar.csv', index=False)"
   ]
  }
 ],
 "metadata": {
  "kernelspec": {
   "display_name": "Python 3 (ipykernel)",
   "language": "python",
   "name": "python3"
  },
  "language_info": {
   "codemirror_mode": {
    "name": "ipython",
    "version": 3
   },
   "file_extension": ".py",
   "mimetype": "text/x-python",
   "name": "python",
   "nbconvert_exporter": "python",
   "pygments_lexer": "ipython3",
   "version": "3.10.11"
  }
 },
 "nbformat": 4,
 "nbformat_minor": 4
}
